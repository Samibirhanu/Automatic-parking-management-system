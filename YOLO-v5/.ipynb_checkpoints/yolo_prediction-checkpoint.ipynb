{
 "cells": [
  {
   "cell_type": "code",
   "execution_count": null,
   "id": "c9b463f8-61df-4563-a0cd-f906d390607d",
   "metadata": {},
   "outputs": [],
   "source": [
    "import cv2\n",
    "import numpy as np\n",
    "import os \n",
    "import pytesseract as pt"
   ]
  },
  {
   "cell_type": "code",
   "execution_count": null,
   "id": "d1e10e5d-be34-437f-84a2-517f5ee0a101",
   "metadata": {},
   "outputs": [],
   "source": [
    "# setting\n",
    "INPUT_WIDTH = 640\n",
    "INPUT_HEIGHT = 640"
   ]
  },
  {
   "cell_type": "code",
   "execution_count": null,
   "id": "638e0be6-c7f2-4aed-a4b1-5d3d4884f4a6",
   "metadata": {},
   "outputs": [],
   "source": [
    "#load the image\n",
    "img = cv2.imread('./test_images/getty_sample.jpg')\n",
    "\n",
    "cv2.namedWindow('test image', cv2.WINDOW_KEEPRATIO)\n",
    "cv2.imshow('test image', img)\n",
    "cv2.waitKey()\n",
    "cv2.destroyWindows()"
   ]
  },
  {
   "cell_type": "code",
   "execution_count": null,
   "id": "9a0ab7ac-37f6-46fd-8bcf-0571d6d3e2b9",
   "metadata": {},
   "outputs": [],
   "source": [
    "# load yolo model\n",
    "net = cv2.dnn.readNetFromONNX('./Model/weights/best.onnx')\n",
    "net.setPreferableBackend(cv2.dnn.DNN_BACKEND_OPENCV)\n",
    "net.setPreferableBackend(cv2.dnn.DNN_TARGET_CPU)"
   ]
  },
  {
   "cell_type": "code",
   "execution_count": null,
   "id": "6eeb15f6-c5fb-4648-aa65-022aba7b84a9",
   "metadata": {},
   "outputs": [],
   "source": [
    "# convert image to yolo format\n",
    "image = img.copy()\n",
    "row, col, d = image.shape\n",
    "\n",
    "max_rc = max(row, col)\n",
    "input_image = np.zeros((max_rc, max_rc, 3), dtype=np.uint8)\n",
    "input_image[0:row, 0:col] = image\n",
    "\n",
    "cv2.namedWindow('test image', cv2.WINDOW_KEEPRATIO)\n",
    "cv2.imshow('test image', input_image)\n",
    "cv2.waitKey()\n",
    "cv2.destroyWindows()"
   ]
  },
  {
   "cell_type": "code",
   "execution_count": null,
   "id": "4309c8b6-7b6a-48ab-a85d-d0460f063ff4",
   "metadata": {},
   "outputs": [],
   "source": []
  }
 ],
 "metadata": {
  "kernelspec": {
   "display_name": "Python 3 (ipykernel)",
   "language": "python",
   "name": "python3"
  },
  "language_info": {
   "codemirror_mode": {
    "name": "ipython",
    "version": 3
   },
   "file_extension": ".py",
   "mimetype": "text/x-python",
   "name": "python",
   "nbconvert_exporter": "python",
   "pygments_lexer": "ipython3",
   "version": "3.12.4"
  }
 },
 "nbformat": 4,
 "nbformat_minor": 5
}
